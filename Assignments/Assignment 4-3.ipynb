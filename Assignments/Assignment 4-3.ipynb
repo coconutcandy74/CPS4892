{
 "cells": [
  {
   "cell_type": "code",
   "execution_count": 1,
   "id": "14fa1ca7",
   "metadata": {},
   "outputs": [],
   "source": [
    "import torch\n",
    "from torchvision import datasets, transforms\n",
    "from sklearn.model_selection import train_test_split\n",
    "from torch.utils.data import DataLoader, Subset"
   ]
  },
  {
   "cell_type": "code",
   "execution_count": 2,
   "id": "82d2e672",
   "metadata": {},
   "outputs": [],
   "source": [
    "# Hyperparameters\n",
    "batch_size = 64"
   ]
  },
  {
   "cell_type": "code",
   "execution_count": 3,
   "id": "e2d4e076",
   "metadata": {},
   "outputs": [],
   "source": [
    "# Data loading and transformation\n",
    "transform = transforms.Compose([\n",
    "    transforms.ToTensor(),\n",
    "    transforms.Normalize((0.1307,), (0.3081,))\n",
    "])"
   ]
  },
  {
   "cell_type": "code",
   "execution_count": 4,
   "id": "156c01f6",
   "metadata": {},
   "outputs": [],
   "source": [
    "# Download and load the dataset\n",
    "mnist_dataset = datasets.MNIST(root='./data', train=True, transform=transform, download=True)"
   ]
  },
  {
   "cell_type": "code",
   "execution_count": 5,
   "id": "5948c899",
   "metadata": {},
   "outputs": [],
   "source": [
    "# Split the dataset into training and testing sets\n",
    "train_indices, test_indices = train_test_split(range(len(mnist_dataset)), test_size=0.2, random_state=42)\n",
    "\n",
    "train_dataset = Subset(mnist_dataset, train_indices)\n",
    "test_dataset = Subset(mnist_dataset, test_indices)\n",
    "\n",
    "train_loader = DataLoader(dataset=train_dataset, batch_size=batch_size, shuffle=True)\n",
    "test_loader = DataLoader(dataset=test_dataset, batch_size=batch_size, shuffle=False)"
   ]
  },
  {
   "cell_type": "code",
   "execution_count": 6,
   "id": "366e49b0",
   "metadata": {},
   "outputs": [
    {
     "name": "stdout",
     "output_type": "stream",
     "text": [
      "Train dataset size: 48000\n",
      "Test dataset size: 12000\n"
     ]
    }
   ],
   "source": [
    "# Verify the data loaders\n",
    "print(f'Train dataset size: {len(train_loader.dataset)}')\n",
    "print(f'Test dataset size: {len(test_loader.dataset)}')"
   ]
  },
  {
   "cell_type": "code",
   "execution_count": 7,
   "id": "24ae33af",
   "metadata": {},
   "outputs": [],
   "source": [
    "import torch.nn as nn"
   ]
  },
  {
   "cell_type": "code",
   "execution_count": 8,
   "id": "a43f0895",
   "metadata": {},
   "outputs": [],
   "source": [
    "class CNN(nn.Module):\n",
    "    def __init__(self):\n",
    "        super(CNN, self).__init__()\n",
    "        # Define the first convolutional layer\n",
    "        self.conv1 = nn.Conv2d(in_channels=1, out_channels=32, kernel_size=3, stride=1, padding=1)\n",
    "        self.relu1 = nn.ReLU()\n",
    "        self.pool1 = nn.MaxPool2d(kernel_size=2, stride=2, padding=0)\n",
    "        \n",
    "        # Define the second convolutional layer\n",
    "        self.conv2 = nn.Conv2d(in_channels=32, out_channels=64, kernel_size=3, stride=1, padding=0)\n",
    "        self.relu2 = nn.ReLU()\n",
    "        self.pool2 = nn.MaxPool2d(kernel_size=2, stride=2, padding=0)\n",
    "        \n",
    "        # Define the fully connected layers\n",
    "        self.fc1 = nn.Linear(64 * 6 * 6, 128)  # Adjust the input size according to the output size from conv layers\n",
    "        self.relu3 = nn.ReLU()\n",
    "        self.fc2 = nn.Linear(128, 10)\n",
    "        \n",
    "    def forward(self, x):\n",
    "        # Pass the input through the first convolutional layer\n",
    "        x = self.pool1(self.relu1(self.conv1(x)))\n",
    "        \n",
    "        # Pass the input through the second convolutional layer\n",
    "        x = self.pool2(self.relu2(self.conv2(x)))\n",
    "        \n",
    "        # Flatten the output\n",
    "        x = x.view(-1, 64 * 6 * 6)  # Adjust according to the output size from conv layers\n",
    "        \n",
    "        # Pass the input through the fully connected layers\n",
    "        x = self.relu3(self.fc1(x))\n",
    "        x = self.fc2(x)\n",
    "        \n",
    "        return x"
   ]
  },
  {
   "cell_type": "code",
   "execution_count": 9,
   "id": "3876978c",
   "metadata": {
    "scrolled": true
   },
   "outputs": [
    {
     "name": "stdout",
     "output_type": "stream",
     "text": [
      "CNN(\n",
      "  (conv1): Conv2d(1, 32, kernel_size=(3, 3), stride=(1, 1), padding=(1, 1))\n",
      "  (relu1): ReLU()\n",
      "  (pool1): MaxPool2d(kernel_size=2, stride=2, padding=0, dilation=1, ceil_mode=False)\n",
      "  (conv2): Conv2d(32, 64, kernel_size=(3, 3), stride=(1, 1))\n",
      "  (relu2): ReLU()\n",
      "  (pool2): MaxPool2d(kernel_size=2, stride=2, padding=0, dilation=1, ceil_mode=False)\n",
      "  (fc1): Linear(in_features=2304, out_features=128, bias=True)\n",
      "  (relu3): ReLU()\n",
      "  (fc2): Linear(in_features=128, out_features=10, bias=True)\n",
      ")\n"
     ]
    }
   ],
   "source": [
    "# Instantiate the model and print its architecture\n",
    "model = CNN()\n",
    "print(model)"
   ]
  },
  {
   "cell_type": "code",
   "execution_count": 10,
   "id": "8aa5d0d2",
   "metadata": {},
   "outputs": [],
   "source": [
    "import torch.optim as optim\n",
    "import matplotlib.pyplot as plt"
   ]
  },
  {
   "cell_type": "code",
   "execution_count": 11,
   "id": "275340c3",
   "metadata": {},
   "outputs": [],
   "source": [
    "# Hyperparameters\n",
    "num_epochs = 5\n",
    "learning_rates = [0.01, 0.001, 0.0001]"
   ]
  },
  {
   "cell_type": "code",
   "execution_count": 12,
   "id": "fd31da6e",
   "metadata": {},
   "outputs": [],
   "source": [
    "# Function to train and evaluate the model\n",
    "def train_and_evaluate(learning_rate):\n",
    "    # Instantiate the model and move it to the device (CPU or GPU)\n",
    "    model = CNN().to(device)\n",
    "    \n",
    "    # Define the loss function (Cross-Entropy Loss)\n",
    "    criterion = nn.CrossEntropyLoss()\n",
    "    \n",
    "    # Define the optimizer (SGD with momentum)\n",
    "    optimizer = optim.SGD(model.parameters(), lr=learning_rate, momentum=0.9)\n",
    "    \n",
    "    # Lists to store training losses and test accuracies for each epoch\n",
    "    train_losses = []\n",
    "    test_accuracies = []\n",
    "    \n",
    "    # Training loop for the specified number of epochs\n",
    "    for epoch in range(num_epochs):\n",
    "        model.train()  # Set the model to training mode\n",
    "        running_loss = 0.0  # Variable to accumulate loss during training\n",
    "        \n",
    "        # Loop over the training data\n",
    "        for images, labels in train_loader:\n",
    "            images, labels = images.to(device), labels.to(device)  # Move data to the device\n",
    "            \n",
    "            optimizer.zero_grad()  # Zero the parameter gradients\n",
    "            outputs = model(images)  # Forward pass: compute predictions\n",
    "            loss = criterion(outputs, labels)  # Compute the loss\n",
    "            loss.backward()  # Backward pass: compute gradients\n",
    "            optimizer.step()  # Update the model parameters\n",
    "            \n",
    "            running_loss += loss.item()  # Accumulate the loss\n",
    "        \n",
    "        # Compute the average training loss for the current epoch\n",
    "        train_loss = running_loss / len(train_loader)\n",
    "        train_losses.append(train_loss)  # Store the training loss\n",
    "        \n",
    "        model.eval()  # Set the model to evaluation mode\n",
    "        misclassified_images = []\n",
    "        misclassified_labels = []\n",
    "        misclassified_preds = []\n",
    "        correct = 0  # Variable to count correct predictions\n",
    "        total = 0  # Variable to count total predictions\n",
    "        \n",
    "        # Loop over the test data\n",
    "        with torch.no_grad():  # Disable gradient computation for efficiency\n",
    "            for images, labels in test_loader:\n",
    "                images, labels = images.to(device), labels.to(device)  # Move data to the device\n",
    "                outputs = model(images)  # Forward pass: compute predictions\n",
    "                _, predicted = torch.max(outputs.data, 1)  # Get the index of the max log-probability\n",
    "                total += labels.size(0)  # Update the total count\n",
    "                correct += (predicted == labels).sum().item()  # Update the correct count\n",
    "        \n",
    "        # Compute the test accuracy for the current epoch\n",
    "        accuracy = 100 * correct / total\n",
    "        test_accuracies.append(accuracy)  # Store the test accuracy\n",
    "        \n",
    "        # Print the progress for the current epoch\n",
    "        print(f'Learning Rate: {learning_rate}, Epoch [{epoch+1}/{num_epochs}], Loss: {train_loss:.4f}, Accuracy: {accuracy:.2f}%')\n",
    "    \n",
    "    # Return the training losses and test accuracies for all epochs\n",
    "    return train_losses, test_accuracies\n"
   ]
  },
  {
   "cell_type": "code",
   "execution_count": 13,
   "id": "571d5af0",
   "metadata": {},
   "outputs": [],
   "source": [
    "# Set device\n",
    "device = torch.device('cuda' if torch.cuda.is_available() else 'cpu')"
   ]
  },
  {
   "cell_type": "code",
   "execution_count": 14,
   "id": "b0d7c772",
   "metadata": {},
   "outputs": [
    {
     "name": "stdout",
     "output_type": "stream",
     "text": [
      "Learning Rate: 0.01, Epoch [1/5], Loss: 0.2314, Accuracy: 97.77%\n",
      "Learning Rate: 0.01, Epoch [2/5], Loss: 0.0559, Accuracy: 98.31%\n",
      "Learning Rate: 0.01, Epoch [3/5], Loss: 0.0368, Accuracy: 98.81%\n",
      "Learning Rate: 0.01, Epoch [4/5], Loss: 0.0284, Accuracy: 99.04%\n",
      "Learning Rate: 0.01, Epoch [5/5], Loss: 0.0209, Accuracy: 98.97%\n",
      "Learning Rate: 0.001, Epoch [1/5], Loss: 0.6247, Accuracy: 92.90%\n",
      "Learning Rate: 0.001, Epoch [2/5], Loss: 0.1911, Accuracy: 95.66%\n",
      "Learning Rate: 0.001, Epoch [3/5], Loss: 0.1250, Accuracy: 96.32%\n",
      "Learning Rate: 0.001, Epoch [4/5], Loss: 0.0962, Accuracy: 97.58%\n",
      "Learning Rate: 0.001, Epoch [5/5], Loss: 0.0805, Accuracy: 97.72%\n",
      "Learning Rate: 0.0001, Epoch [1/5], Loss: 2.2044, Accuracy: 60.44%\n",
      "Learning Rate: 0.0001, Epoch [2/5], Loss: 1.6237, Accuracy: 79.03%\n",
      "Learning Rate: 0.0001, Epoch [3/5], Loss: 0.7214, Accuracy: 86.36%\n",
      "Learning Rate: 0.0001, Epoch [4/5], Loss: 0.4572, Accuracy: 89.34%\n",
      "Learning Rate: 0.0001, Epoch [5/5], Loss: 0.3655, Accuracy: 90.95%\n"
     ]
    }
   ],
   "source": [
    "# Train and evaluate the model for each learning rate\n",
    "results = {}\n",
    "for lr in learning_rates:\n",
    "    train_losses, test_accuracies = train_and_evaluate(lr)\n",
    "    results[lr] = (train_losses, test_accuracies)"
   ]
  },
  {
   "cell_type": "code",
   "execution_count": 15,
   "id": "86854d5c",
   "metadata": {},
   "outputs": [
    {
     "data": {
      "image/png": "[encoded data removed]",
      "text/plain": [
       "<Figure size 1000x600 with 1 Axes>"
      ]
     },
     "metadata": {},
     "output_type": "display_data"
    }
   ],
   "source": [
    "# Plotting results\n",
    "fig, ax = plt.subplots(figsize=(10, 6))\n",
    "for lr in learning_rates:\n",
    "    ax.plot(range(1, num_epochs+1), results[lr][1], label=f'LR={lr}')\n",
    "ax.set_xlabel('Epochs')\n",
    "ax.set_ylabel('Test Accuracy (%)')\n",
    "ax.set_title('Test Accuracy per Epoch for Different Learning Rates')\n",
    "ax.legend()\n",
    "plt.show()"
   ]
  },
  {
   "cell_type": "code",
   "execution_count": 16,
   "id": "3bb48de6",
   "metadata": {},
   "outputs": [
    {
     "name": "stdout",
     "output_type": "stream",
     "text": [
      "           LR=0.01   LR=0.001  LR=0.0001\n",
      "Epoch 1  97.766667  92.900000  60.441667\n",
      "Epoch 2  98.308333  95.658333  79.025000\n",
      "Epoch 3  98.808333  96.316667  86.358333\n",
      "Epoch 4  99.041667  97.583333  89.341667\n",
      "Epoch 5  98.966667  97.725000  90.950000\n"
     ]
    }
   ],
   "source": [
    "import pandas as pd\n",
    "# Present results in a table\n",
    "data = {f'LR={lr}': results[lr][1] for lr in learning_rates}\n",
    "df = pd.DataFrame(data, index=[f'Epoch {i+1}' for i in range(num_epochs)])\n",
    "print(df)"
   ]
  },
  {
   "cell_type": "code",
   "execution_count": null,
   "id": "259ecf2d",
   "metadata": {},
   "outputs": [],
   "source": []
  }
 ],
 "metadata": {
  "kernelspec": {
   "display_name": "Python 3 (ipykernel)",
   "language": "python",
   "name": "python3"
  },
  "language_info": {
   "codemirror_mode": {
    "name": "ipython",
    "version": 3
   },
   "file_extension": ".py",
   "mimetype": "text/x-python",
   "name": "python",
   "nbconvert_exporter": "python",
   "pygments_lexer": "ipython3",
   "version": "3.9.13"
  }
 },
 "nbformat": 4,
 "nbformat_minor": 5
}
